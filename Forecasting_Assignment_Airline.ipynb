{
  "nbformat": 4,
  "nbformat_minor": 0,
  "metadata": {
    "colab": {
      "name": "Forecasting_Assignment_Airline.ipynb",
      "provenance": [],
      "collapsed_sections": []
    },
    "kernelspec": {
      "name": "python3",
      "display_name": "Python 3"
    },
    "language_info": {
      "name": "python"
    }
  },
  "cells": [
    {
      "cell_type": "code",
      "metadata": {
        "id": "3HrdOOFQL5-F"
      },
      "source": [
        "import pandas as pd\n",
        "import numpy as np"
      ],
      "execution_count": 1,
      "outputs": []
    },
    {
      "cell_type": "code",
      "metadata": {
        "id": "gR-RSozxMF28"
      },
      "source": [
        "df = pd.read_excel('/content/Airlines+Data.xlsx')"
      ],
      "execution_count": 2,
      "outputs": []
    },
    {
      "cell_type": "code",
      "metadata": {
        "colab": {
          "base_uri": "https://localhost:8080/",
          "height": 204
        },
        "id": "FEGUyBtpMStt",
        "outputId": "f16b02b1-4e44-4d36-f186-1ab58ae86aec"
      },
      "source": [
        "df.head()"
      ],
      "execution_count": 3,
      "outputs": [
        {
          "output_type": "execute_result",
          "data": {
            "text/html": [
              "<div>\n",
              "<style scoped>\n",
              "    .dataframe tbody tr th:only-of-type {\n",
              "        vertical-align: middle;\n",
              "    }\n",
              "\n",
              "    .dataframe tbody tr th {\n",
              "        vertical-align: top;\n",
              "    }\n",
              "\n",
              "    .dataframe thead th {\n",
              "        text-align: right;\n",
              "    }\n",
              "</style>\n",
              "<table border=\"1\" class=\"dataframe\">\n",
              "  <thead>\n",
              "    <tr style=\"text-align: right;\">\n",
              "      <th></th>\n",
              "      <th>Month</th>\n",
              "      <th>Passengers</th>\n",
              "    </tr>\n",
              "  </thead>\n",
              "  <tbody>\n",
              "    <tr>\n",
              "      <th>0</th>\n",
              "      <td>1995-01-01</td>\n",
              "      <td>112</td>\n",
              "    </tr>\n",
              "    <tr>\n",
              "      <th>1</th>\n",
              "      <td>1995-02-01</td>\n",
              "      <td>118</td>\n",
              "    </tr>\n",
              "    <tr>\n",
              "      <th>2</th>\n",
              "      <td>1995-03-01</td>\n",
              "      <td>132</td>\n",
              "    </tr>\n",
              "    <tr>\n",
              "      <th>3</th>\n",
              "      <td>1995-04-01</td>\n",
              "      <td>129</td>\n",
              "    </tr>\n",
              "    <tr>\n",
              "      <th>4</th>\n",
              "      <td>1995-05-01</td>\n",
              "      <td>121</td>\n",
              "    </tr>\n",
              "  </tbody>\n",
              "</table>\n",
              "</div>"
            ],
            "text/plain": [
              "       Month  Passengers\n",
              "0 1995-01-01         112\n",
              "1 1995-02-01         118\n",
              "2 1995-03-01         132\n",
              "3 1995-04-01         129\n",
              "4 1995-05-01         121"
            ]
          },
          "metadata": {
            "tags": []
          },
          "execution_count": 3
        }
      ]
    },
    {
      "cell_type": "code",
      "metadata": {
        "colab": {
          "base_uri": "https://localhost:8080/",
          "height": 204
        },
        "id": "SqpFIRw2MURF",
        "outputId": "e39d230f-8ce1-497b-9e53-4e4052be3ec2"
      },
      "source": [
        "df.tail()"
      ],
      "execution_count": 4,
      "outputs": [
        {
          "output_type": "execute_result",
          "data": {
            "text/html": [
              "<div>\n",
              "<style scoped>\n",
              "    .dataframe tbody tr th:only-of-type {\n",
              "        vertical-align: middle;\n",
              "    }\n",
              "\n",
              "    .dataframe tbody tr th {\n",
              "        vertical-align: top;\n",
              "    }\n",
              "\n",
              "    .dataframe thead th {\n",
              "        text-align: right;\n",
              "    }\n",
              "</style>\n",
              "<table border=\"1\" class=\"dataframe\">\n",
              "  <thead>\n",
              "    <tr style=\"text-align: right;\">\n",
              "      <th></th>\n",
              "      <th>Month</th>\n",
              "      <th>Passengers</th>\n",
              "    </tr>\n",
              "  </thead>\n",
              "  <tbody>\n",
              "    <tr>\n",
              "      <th>91</th>\n",
              "      <td>2002-08-01</td>\n",
              "      <td>405</td>\n",
              "    </tr>\n",
              "    <tr>\n",
              "      <th>92</th>\n",
              "      <td>2002-09-01</td>\n",
              "      <td>355</td>\n",
              "    </tr>\n",
              "    <tr>\n",
              "      <th>93</th>\n",
              "      <td>2002-10-01</td>\n",
              "      <td>306</td>\n",
              "    </tr>\n",
              "    <tr>\n",
              "      <th>94</th>\n",
              "      <td>2002-11-01</td>\n",
              "      <td>271</td>\n",
              "    </tr>\n",
              "    <tr>\n",
              "      <th>95</th>\n",
              "      <td>2002-12-01</td>\n",
              "      <td>306</td>\n",
              "    </tr>\n",
              "  </tbody>\n",
              "</table>\n",
              "</div>"
            ],
            "text/plain": [
              "        Month  Passengers\n",
              "91 2002-08-01         405\n",
              "92 2002-09-01         355\n",
              "93 2002-10-01         306\n",
              "94 2002-11-01         271\n",
              "95 2002-12-01         306"
            ]
          },
          "metadata": {
            "tags": []
          },
          "execution_count": 4
        }
      ]
    },
    {
      "cell_type": "code",
      "metadata": {
        "id": "SJUVJ53RMXeJ"
      },
      "source": [
        "import matplotlib.pyplot as plt"
      ],
      "execution_count": 5,
      "outputs": []
    },
    {
      "cell_type": "code",
      "metadata": {
        "colab": {
          "base_uri": "https://localhost:8080/",
          "height": 282
        },
        "id": "Ry0NQin1MbYD",
        "outputId": "8bbabc58-228f-4d1b-cfe2-624c43758cc0"
      },
      "source": [
        "plt.plot(df.iloc[:,1])"
      ],
      "execution_count": 6,
      "outputs": [
        {
          "output_type": "execute_result",
          "data": {
            "text/plain": [
              "[<matplotlib.lines.Line2D at 0x7fb40dd9d110>]"
            ]
          },
          "metadata": {
            "tags": []
          },
          "execution_count": 6
        },
        {
          "output_type": "display_data",
          "data": {
            "image/png": "[encoded data removed]",
            "text/plain": [
              "<Figure size 432x288 with 1 Axes>"
            ]
          },
          "metadata": {
            "tags": [],
            "needs_background": "light"
          }
        }
      ]
    },
    {
      "cell_type": "code",
      "metadata": {
        "id": "elrC7WBMMfPX"
      },
      "source": [
        "from sklearn.preprocessing import MinMaxScaler"
      ],
      "execution_count": 7,
      "outputs": []
    },
    {
      "cell_type": "code",
      "metadata": {
        "colab": {
          "base_uri": "https://localhost:8080/"
        },
        "id": "LPZatmvUMplY",
        "outputId": "2c30798f-8f7a-4f5e-892b-a3d9b8285f44"
      },
      "source": [
        "df.iloc[:,1]"
      ],
      "execution_count": 8,
      "outputs": [
        {
          "output_type": "execute_result",
          "data": {
            "text/plain": [
              "0     112\n",
              "1     118\n",
              "2     132\n",
              "3     129\n",
              "4     121\n",
              "     ... \n",
              "91    405\n",
              "92    355\n",
              "93    306\n",
              "94    271\n",
              "95    306\n",
              "Name: Passengers, Length: 96, dtype: int64"
            ]
          },
          "metadata": {
            "tags": []
          },
          "execution_count": 8
        }
      ]
    },
    {
      "cell_type": "code",
      "metadata": {
        "id": "oTr7MSiOMrhn"
      },
      "source": [
        "scaler = MinMaxScaler(feature_range=(0,1))\n",
        "df = scaler.fit_transform(df.iloc[:,1:])"
      ],
      "execution_count": 9,
      "outputs": []
    },
    {
      "cell_type": "code",
      "metadata": {
        "colab": {
          "base_uri": "https://localhost:8080/"
        },
        "id": "6Sp_A0ElM7cF",
        "outputId": "cfec0260-92c2-45ab-8029-4c432651a723"
      },
      "source": [
        "df.shape"
      ],
      "execution_count": 10,
      "outputs": [
        {
          "output_type": "execute_result",
          "data": {
            "text/plain": [
              "(96, 1)"
            ]
          },
          "metadata": {
            "tags": []
          },
          "execution_count": 10
        }
      ]
    },
    {
      "cell_type": "code",
      "metadata": {
        "colab": {
          "base_uri": "https://localhost:8080/"
        },
        "id": "a8wgcqkSM8WJ",
        "outputId": "06f7feb8-d37b-4adc-f666-887b36a99aba"
      },
      "source": [
        "df"
      ],
      "execution_count": 11,
      "outputs": [
        {
          "output_type": "execute_result",
          "data": {
            "text/plain": [
              "array([[0.02588997],\n",
              "       [0.04530744],\n",
              "       [0.09061489],\n",
              "       [0.08090615],\n",
              "       [0.05501618],\n",
              "       [0.10032362],\n",
              "       [0.14239482],\n",
              "       [0.14239482],\n",
              "       [0.10355987],\n",
              "       [0.04854369],\n",
              "       [0.        ],\n",
              "       [0.04530744],\n",
              "       [0.03559871],\n",
              "       [0.07119741],\n",
              "       [0.1197411 ],\n",
              "       [0.10032362],\n",
              "       [0.06796117],\n",
              "       [0.14563107],\n",
              "       [0.21359223],\n",
              "       [0.21359223],\n",
              "       [0.17475728],\n",
              "       [0.09385113],\n",
              "       [0.03236246],\n",
              "       [0.11650485],\n",
              "       [0.13268608],\n",
              "       [0.14886731],\n",
              "       [0.2394822 ],\n",
              "       [0.19093851],\n",
              "       [0.22006472],\n",
              "       [0.2394822 ],\n",
              "       [0.30744337],\n",
              "       [0.30744337],\n",
              "       [0.25889968],\n",
              "       [0.18770227],\n",
              "       [0.13592233],\n",
              "       [0.20064725],\n",
              "       [0.21682848],\n",
              "       [0.24595469],\n",
              "       [0.28802589],\n",
              "       [0.24919094],\n",
              "       [0.25566343],\n",
              "       [0.36893204],\n",
              "       [0.40776699],\n",
              "       [0.44660194],\n",
              "       [0.33980583],\n",
              "       [0.2815534 ],\n",
              "       [0.22006472],\n",
              "       [0.29126214],\n",
              "       [0.29773463],\n",
              "       [0.29773463],\n",
              "       [0.42718447],\n",
              "       [0.42394822],\n",
              "       [0.40453074],\n",
              "       [0.44983819],\n",
              "       [0.51779935],\n",
              "       [0.54368932],\n",
              "       [0.43042071],\n",
              "       [0.34627832],\n",
              "       [0.24595469],\n",
              "       [0.31391586],\n",
              "       [0.3236246 ],\n",
              "       [0.27184466],\n",
              "       [0.42394822],\n",
              "       [0.39805825],\n",
              "       [0.42071197],\n",
              "       [0.51779935],\n",
              "       [0.6407767 ],\n",
              "       [0.61165049],\n",
              "       [0.50161812],\n",
              "       [0.40453074],\n",
              "       [0.32038835],\n",
              "       [0.40453074],\n",
              "       [0.44660194],\n",
              "       [0.41747573],\n",
              "       [0.52750809],\n",
              "       [0.53398058],\n",
              "       [0.53721683],\n",
              "       [0.6828479 ],\n",
              "       [0.84142395],\n",
              "       [0.78640777],\n",
              "       [0.67313916],\n",
              "       [0.55016181],\n",
              "       [0.43042071],\n",
              "       [0.5631068 ],\n",
              "       [0.58252427],\n",
              "       [0.55987055],\n",
              "       [0.68932039],\n",
              "       [0.6763754 ],\n",
              "       [0.69255663],\n",
              "       [0.87378641],\n",
              "       [1.        ],\n",
              "       [0.97411003],\n",
              "       [0.81229773],\n",
              "       [0.65372168],\n",
              "       [0.54045307],\n",
              "       [0.65372168]])"
            ]
          },
          "metadata": {
            "tags": []
          },
          "execution_count": 11
        }
      ]
    },
    {
      "cell_type": "code",
      "metadata": {
        "id": "NB7b_aMsM99-"
      },
      "source": [
        "# Splitting data into train and test \n",
        "train_size = int(len(df)*0.65)"
      ],
      "execution_count": 17,
      "outputs": []
    },
    {
      "cell_type": "code",
      "metadata": {
        "colab": {
          "base_uri": "https://localhost:8080/"
        },
        "id": "dRAX-6k0NLtH",
        "outputId": "4f3851ab-214f-4b8a-f13b-e2da7a00870d"
      },
      "source": [
        "train_size"
      ],
      "execution_count": 21,
      "outputs": [
        {
          "output_type": "execute_result",
          "data": {
            "text/plain": [
              "62"
            ]
          },
          "metadata": {
            "tags": []
          },
          "execution_count": 21
        }
      ]
    },
    {
      "cell_type": "code",
      "metadata": {
        "id": "ZrWd4K_LNNE1"
      },
      "source": [
        "test_size = len(df)-train_size"
      ],
      "execution_count": 19,
      "outputs": []
    },
    {
      "cell_type": "code",
      "metadata": {
        "colab": {
          "base_uri": "https://localhost:8080/"
        },
        "id": "Aht__OtHNP-d",
        "outputId": "4b8677af-b090-44b4-d95c-09d38af212e8"
      },
      "source": [
        "test_size"
      ],
      "execution_count": 20,
      "outputs": [
        {
          "output_type": "execute_result",
          "data": {
            "text/plain": [
              "34"
            ]
          },
          "metadata": {
            "tags": []
          },
          "execution_count": 20
        }
      ]
    },
    {
      "cell_type": "code",
      "metadata": {
        "id": "yu14_i0BNYnd"
      },
      "source": [
        "train_data, test_data = df[0:train_size,:],df[train_size:len(df),:1]"
      ],
      "execution_count": 22,
      "outputs": []
    },
    {
      "cell_type": "code",
      "metadata": {
        "colab": {
          "base_uri": "https://localhost:8080/"
        },
        "id": "G2Lt-RbGN0uk",
        "outputId": "8d43d6ae-1a5c-43a8-d98b-eeeee385eee9"
      },
      "source": [
        "train_data"
      ],
      "execution_count": 23,
      "outputs": [
        {
          "output_type": "execute_result",
          "data": {
            "text/plain": [
              "array([[0.02588997],\n",
              "       [0.04530744],\n",
              "       [0.09061489],\n",
              "       [0.08090615],\n",
              "       [0.05501618],\n",
              "       [0.10032362],\n",
              "       [0.14239482],\n",
              "       [0.14239482],\n",
              "       [0.10355987],\n",
              "       [0.04854369],\n",
              "       [0.        ],\n",
              "       [0.04530744],\n",
              "       [0.03559871],\n",
              "       [0.07119741],\n",
              "       [0.1197411 ],\n",
              "       [0.10032362],\n",
              "       [0.06796117],\n",
              "       [0.14563107],\n",
              "       [0.21359223],\n",
              "       [0.21359223],\n",
              "       [0.17475728],\n",
              "       [0.09385113],\n",
              "       [0.03236246],\n",
              "       [0.11650485],\n",
              "       [0.13268608],\n",
              "       [0.14886731],\n",
              "       [0.2394822 ],\n",
              "       [0.19093851],\n",
              "       [0.22006472],\n",
              "       [0.2394822 ],\n",
              "       [0.30744337],\n",
              "       [0.30744337],\n",
              "       [0.25889968],\n",
              "       [0.18770227],\n",
              "       [0.13592233],\n",
              "       [0.20064725],\n",
              "       [0.21682848],\n",
              "       [0.24595469],\n",
              "       [0.28802589],\n",
              "       [0.24919094],\n",
              "       [0.25566343],\n",
              "       [0.36893204],\n",
              "       [0.40776699],\n",
              "       [0.44660194],\n",
              "       [0.33980583],\n",
              "       [0.2815534 ],\n",
              "       [0.22006472],\n",
              "       [0.29126214],\n",
              "       [0.29773463],\n",
              "       [0.29773463],\n",
              "       [0.42718447],\n",
              "       [0.42394822],\n",
              "       [0.40453074],\n",
              "       [0.44983819],\n",
              "       [0.51779935],\n",
              "       [0.54368932],\n",
              "       [0.43042071],\n",
              "       [0.34627832],\n",
              "       [0.24595469],\n",
              "       [0.31391586],\n",
              "       [0.3236246 ],\n",
              "       [0.27184466]])"
            ]
          },
          "metadata": {
            "tags": []
          },
          "execution_count": 23
        }
      ]
    },
    {
      "cell_type": "code",
      "metadata": {
        "colab": {
          "base_uri": "https://localhost:8080/"
        },
        "id": "vit-q8_CN12b",
        "outputId": "ad6e16c3-60c4-4708-c43c-66b9f5d3ec56"
      },
      "source": [
        "test_data"
      ],
      "execution_count": 24,
      "outputs": [
        {
          "output_type": "execute_result",
          "data": {
            "text/plain": [
              "array([[0.42394822],\n",
              "       [0.39805825],\n",
              "       [0.42071197],\n",
              "       [0.51779935],\n",
              "       [0.6407767 ],\n",
              "       [0.61165049],\n",
              "       [0.50161812],\n",
              "       [0.40453074],\n",
              "       [0.32038835],\n",
              "       [0.40453074],\n",
              "       [0.44660194],\n",
              "       [0.41747573],\n",
              "       [0.52750809],\n",
              "       [0.53398058],\n",
              "       [0.53721683],\n",
              "       [0.6828479 ],\n",
              "       [0.84142395],\n",
              "       [0.78640777],\n",
              "       [0.67313916],\n",
              "       [0.55016181],\n",
              "       [0.43042071],\n",
              "       [0.5631068 ],\n",
              "       [0.58252427],\n",
              "       [0.55987055],\n",
              "       [0.68932039],\n",
              "       [0.6763754 ],\n",
              "       [0.69255663],\n",
              "       [0.87378641],\n",
              "       [1.        ],\n",
              "       [0.97411003],\n",
              "       [0.81229773],\n",
              "       [0.65372168],\n",
              "       [0.54045307],\n",
              "       [0.65372168]])"
            ]
          },
          "metadata": {
            "tags": []
          },
          "execution_count": 24
        }
      ]
    },
    {
      "cell_type": "code",
      "metadata": {
        "id": "iHI0t-YLN4Zh"
      },
      "source": [
        "#convert an array of values into a dataset matrix\n",
        "def create_dataset(dataset, time_step=1):\n",
        "    dataX, dataY = [] , []\n",
        "    for i in range(len(dataset)-time_step-1):\n",
        "        a =dataset[i:(i+time_step),0] # i = 0,1,2,3\n",
        "        dataX.append(a)\n",
        "        dataY.append(dataset[i + time_step, 0])\n",
        "    return np.array(dataX), np.array(dataY)"
      ],
      "execution_count": 30,
      "outputs": []
    },
    {
      "cell_type": "code",
      "metadata": {
        "id": "yzjFAQdcOpki"
      },
      "source": [
        "# reshape into X =t, t+1, t+2, t+3 and Y=t+4\n",
        "time_step = 4\n",
        "X_train, y_train = create_dataset(train_data, time_step)\n",
        "X_test, y_test = create_dataset(test_data, time_step)"
      ],
      "execution_count": 31,
      "outputs": []
    },
    {
      "cell_type": "code",
      "metadata": {
        "colab": {
          "base_uri": "https://localhost:8080/"
        },
        "id": "-F7BJzlrPFly",
        "outputId": "f3b6584a-fef5-4bb7-d471-acb4b113e7fb"
      },
      "source": [
        "X_train.shape, y_train.shape"
      ],
      "execution_count": 33,
      "outputs": [
        {
          "output_type": "execute_result",
          "data": {
            "text/plain": [
              "((57, 4), (57,))"
            ]
          },
          "metadata": {
            "tags": []
          },
          "execution_count": 33
        }
      ]
    },
    {
      "cell_type": "code",
      "metadata": {
        "id": "2Jk4srHfP0Zv"
      },
      "source": [
        "# reshape input to be [ sample, time steps , features] which is required for LSTM\n",
        "X_train = X_train.reshape(X_train.shape[0], 4, 1)\n",
        "X_test = X_test.reshape(X_test.shape[0], 4, 1)"
      ],
      "execution_count": 34,
      "outputs": []
    },
    {
      "cell_type": "code",
      "metadata": {
        "colab": {
          "base_uri": "https://localhost:8080/"
        },
        "id": "Z2191Js_QPDf",
        "outputId": "8a0aac44-8807-40ff-86b4-0b4e80ece3d4"
      },
      "source": [
        "X_train.shape"
      ],
      "execution_count": 35,
      "outputs": [
        {
          "output_type": "execute_result",
          "data": {
            "text/plain": [
              "(57, 4, 1)"
            ]
          },
          "metadata": {
            "tags": []
          },
          "execution_count": 35
        }
      ]
    },
    {
      "cell_type": "code",
      "metadata": {
        "id": "6xJzLcu4QRlE"
      },
      "source": [
        "# Create the LSTM model\n",
        "from tensorflow.keras.models import Sequential\n",
        "from tensorflow.keras.layers import Dense\n",
        "from tensorflow.keras.layers import LSTM"
      ],
      "execution_count": 37,
      "outputs": []
    },
    {
      "cell_type": "code",
      "metadata": {
        "colab": {
          "base_uri": "https://localhost:8080/"
        },
        "id": "xMPt7VbtQhbG",
        "outputId": "30db6751-8024-4df2-a12d-3328aaa5b8c6"
      },
      "source": [
        "model = Sequential()\n",
        "model.add(LSTM(50,return_sequences=True,input_shape=(4,1)))\n",
        "model.add(LSTM(50))\n",
        "model.add(Dense(1))\n",
        "model.compile(loss='mean_squared_error', optimizer='adam')\n",
        "model.fit(X_train, y_train, validation_data=(X_test, y_test), epochs=100, batch_size=1, verbose=1)"
      ],
      "execution_count": 39,
      "outputs": [
        {
          "output_type": "stream",
          "text": [
            "Epoch 1/100\n",
            "57/57 [==============================] - 4s 17ms/step - loss: 0.0148 - val_loss: 0.0334\n",
            "Epoch 2/100\n",
            "57/57 [==============================] - 0s 4ms/step - loss: 0.0092 - val_loss: 0.0306\n",
            "Epoch 3/100\n",
            "57/57 [==============================] - 0s 5ms/step - loss: 0.0082 - val_loss: 0.0352\n",
            "Epoch 4/100\n",
            "57/57 [==============================] - 0s 4ms/step - loss: 0.0091 - val_loss: 0.0304\n",
            "Epoch 5/100\n",
            "57/57 [==============================] - 0s 5ms/step - loss: 0.0073 - val_loss: 0.0306\n",
            "Epoch 6/100\n",
            "57/57 [==============================] - 0s 4ms/step - loss: 0.0085 - val_loss: 0.0449\n",
            "Epoch 7/100\n",
            "57/57 [==============================] - 0s 4ms/step - loss: 0.0080 - val_loss: 0.0478\n",
            "Epoch 8/100\n",
            "57/57 [==============================] - 0s 4ms/step - loss: 0.0070 - val_loss: 0.0456\n",
            "Epoch 9/100\n",
            "57/57 [==============================] - 0s 5ms/step - loss: 0.0078 - val_loss: 0.0391\n",
            "Epoch 10/100\n",
            "57/57 [==============================] - 0s 4ms/step - loss: 0.0077 - val_loss: 0.0465\n",
            "Epoch 11/100\n",
            "57/57 [==============================] - 0s 5ms/step - loss: 0.0084 - val_loss: 0.0350\n",
            "Epoch 12/100\n",
            "57/57 [==============================] - 0s 5ms/step - loss: 0.0076 - val_loss: 0.0274\n",
            "Epoch 13/100\n",
            "57/57 [==============================] - 0s 4ms/step - loss: 0.0069 - val_loss: 0.0346\n",
            "Epoch 14/100\n",
            "57/57 [==============================] - 0s 4ms/step - loss: 0.0067 - val_loss: 0.0273\n",
            "Epoch 15/100\n",
            "57/57 [==============================] - 0s 5ms/step - loss: 0.0064 - val_loss: 0.0439\n",
            "Epoch 16/100\n",
            "57/57 [==============================] - 0s 4ms/step - loss: 0.0068 - val_loss: 0.0238\n",
            "Epoch 17/100\n",
            "57/57 [==============================] - 0s 5ms/step - loss: 0.0060 - val_loss: 0.0214\n",
            "Epoch 18/100\n",
            "57/57 [==============================] - 0s 5ms/step - loss: 0.0063 - val_loss: 0.0195\n",
            "Epoch 19/100\n",
            "57/57 [==============================] - 0s 5ms/step - loss: 0.0059 - val_loss: 0.0202\n",
            "Epoch 20/100\n",
            "57/57 [==============================] - 0s 5ms/step - loss: 0.0053 - val_loss: 0.0147\n",
            "Epoch 21/100\n",
            "57/57 [==============================] - 0s 5ms/step - loss: 0.0050 - val_loss: 0.0317\n",
            "Epoch 22/100\n",
            "57/57 [==============================] - 0s 4ms/step - loss: 0.0049 - val_loss: 0.0160\n",
            "Epoch 23/100\n",
            "57/57 [==============================] - 0s 4ms/step - loss: 0.0052 - val_loss: 0.0212\n",
            "Epoch 24/100\n",
            "57/57 [==============================] - 0s 4ms/step - loss: 0.0046 - val_loss: 0.0129\n",
            "Epoch 25/100\n",
            "57/57 [==============================] - 0s 4ms/step - loss: 0.0040 - val_loss: 0.0172\n",
            "Epoch 26/100\n",
            "57/57 [==============================] - 0s 4ms/step - loss: 0.0038 - val_loss: 0.0393\n",
            "Epoch 27/100\n",
            "57/57 [==============================] - 0s 5ms/step - loss: 0.0040 - val_loss: 0.0171\n",
            "Epoch 28/100\n",
            "57/57 [==============================] - 0s 4ms/step - loss: 0.0034 - val_loss: 0.0147\n",
            "Epoch 29/100\n",
            "57/57 [==============================] - 0s 5ms/step - loss: 0.0034 - val_loss: 0.0088\n",
            "Epoch 30/100\n",
            "57/57 [==============================] - 0s 4ms/step - loss: 0.0031 - val_loss: 0.0230\n",
            "Epoch 31/100\n",
            "57/57 [==============================] - 0s 4ms/step - loss: 0.0031 - val_loss: 0.0132\n",
            "Epoch 32/100\n",
            "57/57 [==============================] - 0s 4ms/step - loss: 0.0035 - val_loss: 0.0135\n",
            "Epoch 33/100\n",
            "57/57 [==============================] - 0s 4ms/step - loss: 0.0036 - val_loss: 0.0106\n",
            "Epoch 34/100\n",
            "57/57 [==============================] - 0s 4ms/step - loss: 0.0031 - val_loss: 0.0084\n",
            "Epoch 35/100\n",
            "57/57 [==============================] - 0s 4ms/step - loss: 0.0031 - val_loss: 0.0133\n",
            "Epoch 36/100\n",
            "57/57 [==============================] - 0s 5ms/step - loss: 0.0032 - val_loss: 0.0099\n",
            "Epoch 37/100\n",
            "57/57 [==============================] - 0s 4ms/step - loss: 0.0034 - val_loss: 0.0080\n",
            "Epoch 38/100\n",
            "57/57 [==============================] - 0s 5ms/step - loss: 0.0033 - val_loss: 0.0109\n",
            "Epoch 39/100\n",
            "57/57 [==============================] - 0s 5ms/step - loss: 0.0035 - val_loss: 0.0098\n",
            "Epoch 40/100\n",
            "57/57 [==============================] - 0s 5ms/step - loss: 0.0032 - val_loss: 0.0103\n",
            "Epoch 41/100\n",
            "57/57 [==============================] - 0s 5ms/step - loss: 0.0030 - val_loss: 0.0141\n",
            "Epoch 42/100\n",
            "57/57 [==============================] - 0s 5ms/step - loss: 0.0032 - val_loss: 0.0103\n",
            "Epoch 43/100\n",
            "57/57 [==============================] - 0s 4ms/step - loss: 0.0034 - val_loss: 0.0149\n",
            "Epoch 44/100\n",
            "57/57 [==============================] - 0s 4ms/step - loss: 0.0042 - val_loss: 0.0093\n",
            "Epoch 45/100\n",
            "57/57 [==============================] - 0s 4ms/step - loss: 0.0031 - val_loss: 0.0118\n",
            "Epoch 46/100\n",
            "57/57 [==============================] - 0s 4ms/step - loss: 0.0032 - val_loss: 0.0128\n",
            "Epoch 47/100\n",
            "57/57 [==============================] - 0s 4ms/step - loss: 0.0031 - val_loss: 0.0090\n",
            "Epoch 48/100\n",
            "57/57 [==============================] - 0s 5ms/step - loss: 0.0036 - val_loss: 0.0076\n",
            "Epoch 49/100\n",
            "57/57 [==============================] - 0s 4ms/step - loss: 0.0033 - val_loss: 0.0106\n",
            "Epoch 50/100\n",
            "57/57 [==============================] - 0s 5ms/step - loss: 0.0032 - val_loss: 0.0106\n",
            "Epoch 51/100\n",
            "57/57 [==============================] - 0s 4ms/step - loss: 0.0034 - val_loss: 0.0097\n",
            "Epoch 52/100\n",
            "57/57 [==============================] - 0s 4ms/step - loss: 0.0032 - val_loss: 0.0083\n",
            "Epoch 53/100\n",
            "57/57 [==============================] - 0s 4ms/step - loss: 0.0031 - val_loss: 0.0070\n",
            "Epoch 54/100\n",
            "57/57 [==============================] - 0s 5ms/step - loss: 0.0031 - val_loss: 0.0102\n",
            "Epoch 55/100\n",
            "57/57 [==============================] - 0s 4ms/step - loss: 0.0031 - val_loss: 0.0156\n",
            "Epoch 56/100\n",
            "57/57 [==============================] - 0s 4ms/step - loss: 0.0035 - val_loss: 0.0094\n",
            "Epoch 57/100\n",
            "57/57 [==============================] - 0s 5ms/step - loss: 0.0029 - val_loss: 0.0069\n",
            "Epoch 58/100\n",
            "57/57 [==============================] - 0s 5ms/step - loss: 0.0031 - val_loss: 0.0155\n",
            "Epoch 59/100\n",
            "57/57 [==============================] - 0s 5ms/step - loss: 0.0030 - val_loss: 0.0177\n",
            "Epoch 60/100\n",
            "57/57 [==============================] - 0s 4ms/step - loss: 0.0033 - val_loss: 0.0171\n",
            "Epoch 61/100\n",
            "57/57 [==============================] - 0s 5ms/step - loss: 0.0030 - val_loss: 0.0115\n",
            "Epoch 62/100\n",
            "57/57 [==============================] - 0s 4ms/step - loss: 0.0030 - val_loss: 0.0178\n",
            "Epoch 63/100\n",
            "57/57 [==============================] - 0s 5ms/step - loss: 0.0030 - val_loss: 0.0094\n",
            "Epoch 64/100\n",
            "57/57 [==============================] - 0s 4ms/step - loss: 0.0030 - val_loss: 0.0110\n",
            "Epoch 65/100\n",
            "57/57 [==============================] - 0s 5ms/step - loss: 0.0029 - val_loss: 0.0104\n",
            "Epoch 66/100\n",
            "57/57 [==============================] - 0s 4ms/step - loss: 0.0030 - val_loss: 0.0070\n",
            "Epoch 67/100\n",
            "57/57 [==============================] - 0s 5ms/step - loss: 0.0036 - val_loss: 0.0070\n",
            "Epoch 68/100\n",
            "57/57 [==============================] - 0s 5ms/step - loss: 0.0031 - val_loss: 0.0113\n",
            "Epoch 69/100\n",
            "57/57 [==============================] - 0s 4ms/step - loss: 0.0028 - val_loss: 0.0070\n",
            "Epoch 70/100\n",
            "57/57 [==============================] - 0s 4ms/step - loss: 0.0036 - val_loss: 0.0168\n",
            "Epoch 71/100\n",
            "57/57 [==============================] - 0s 5ms/step - loss: 0.0029 - val_loss: 0.0123\n",
            "Epoch 72/100\n",
            "57/57 [==============================] - 0s 5ms/step - loss: 0.0029 - val_loss: 0.0227\n",
            "Epoch 73/100\n",
            "57/57 [==============================] - 0s 4ms/step - loss: 0.0031 - val_loss: 0.0189\n",
            "Epoch 74/100\n",
            "57/57 [==============================] - 0s 5ms/step - loss: 0.0041 - val_loss: 0.0077\n",
            "Epoch 75/100\n",
            "57/57 [==============================] - 0s 4ms/step - loss: 0.0032 - val_loss: 0.0149\n",
            "Epoch 76/100\n",
            "57/57 [==============================] - 0s 4ms/step - loss: 0.0034 - val_loss: 0.0136\n",
            "Epoch 77/100\n",
            "57/57 [==============================] - 0s 5ms/step - loss: 0.0031 - val_loss: 0.0074\n",
            "Epoch 78/100\n",
            "57/57 [==============================] - 0s 4ms/step - loss: 0.0029 - val_loss: 0.0135\n",
            "Epoch 79/100\n",
            "57/57 [==============================] - 0s 5ms/step - loss: 0.0030 - val_loss: 0.0081\n",
            "Epoch 80/100\n",
            "57/57 [==============================] - 0s 4ms/step - loss: 0.0029 - val_loss: 0.0089\n",
            "Epoch 81/100\n",
            "57/57 [==============================] - 0s 5ms/step - loss: 0.0029 - val_loss: 0.0144\n",
            "Epoch 82/100\n",
            "57/57 [==============================] - 0s 5ms/step - loss: 0.0032 - val_loss: 0.0128\n",
            "Epoch 83/100\n",
            "57/57 [==============================] - 0s 4ms/step - loss: 0.0033 - val_loss: 0.0119\n",
            "Epoch 84/100\n",
            "57/57 [==============================] - 0s 4ms/step - loss: 0.0031 - val_loss: 0.0181\n",
            "Epoch 85/100\n",
            "57/57 [==============================] - 0s 4ms/step - loss: 0.0034 - val_loss: 0.0084\n",
            "Epoch 86/100\n",
            "57/57 [==============================] - 0s 4ms/step - loss: 0.0033 - val_loss: 0.0127\n",
            "Epoch 87/100\n",
            "57/57 [==============================] - 0s 4ms/step - loss: 0.0033 - val_loss: 0.0182\n",
            "Epoch 88/100\n",
            "57/57 [==============================] - 0s 4ms/step - loss: 0.0028 - val_loss: 0.0138\n",
            "Epoch 89/100\n",
            "57/57 [==============================] - 0s 4ms/step - loss: 0.0028 - val_loss: 0.0122\n",
            "Epoch 90/100\n",
            "57/57 [==============================] - 0s 4ms/step - loss: 0.0037 - val_loss: 0.0106\n",
            "Epoch 91/100\n",
            "57/57 [==============================] - 0s 4ms/step - loss: 0.0033 - val_loss: 0.0146\n",
            "Epoch 92/100\n",
            "57/57 [==============================] - 0s 4ms/step - loss: 0.0027 - val_loss: 0.0162\n",
            "Epoch 93/100\n",
            "57/57 [==============================] - 0s 5ms/step - loss: 0.0030 - val_loss: 0.0200\n",
            "Epoch 94/100\n",
            "57/57 [==============================] - 0s 4ms/step - loss: 0.0028 - val_loss: 0.0202\n",
            "Epoch 95/100\n",
            "57/57 [==============================] - 0s 5ms/step - loss: 0.0027 - val_loss: 0.0112\n",
            "Epoch 96/100\n",
            "57/57 [==============================] - 0s 4ms/step - loss: 0.0028 - val_loss: 0.0181\n",
            "Epoch 97/100\n",
            "57/57 [==============================] - 0s 4ms/step - loss: 0.0028 - val_loss: 0.0132\n",
            "Epoch 98/100\n",
            "57/57 [==============================] - 0s 5ms/step - loss: 0.0030 - val_loss: 0.0241\n",
            "Epoch 99/100\n",
            "57/57 [==============================] - 0s 4ms/step - loss: 0.0028 - val_loss: 0.0111\n",
            "Epoch 100/100\n",
            "57/57 [==============================] - 0s 5ms/step - loss: 0.0030 - val_loss: 0.0102\n"
          ],
          "name": "stdout"
        },
        {
          "output_type": "execute_result",
          "data": {
            "text/plain": [
              "<tensorflow.python.keras.callbacks.History at 0x7fb3bfdb92d0>"
            ]
          },
          "metadata": {
            "tags": []
          },
          "execution_count": 39
        }
      ]
    },
    {
      "cell_type": "code",
      "metadata": {
        "id": "TDyONFj7RKlN"
      },
      "source": [
        "train_predict = model.predict(X_train)\n",
        "test_predict = model.predict(X_test)"
      ],
      "execution_count": 40,
      "outputs": []
    },
    {
      "cell_type": "code",
      "metadata": {
        "colab": {
          "base_uri": "https://localhost:8080/"
        },
        "id": "dQRPPtYKRqRc",
        "outputId": "44a74618-5916-4a81-ef22-59469af07ac4"
      },
      "source": [
        "test_predict"
      ],
      "execution_count": 41,
      "outputs": [
        {
          "output_type": "execute_result",
          "data": {
            "text/plain": [
              "array([[0.56060684],\n",
              "       [0.6683341 ],\n",
              "       [0.5488032 ],\n",
              "       [0.40524524],\n",
              "       [0.38516787],\n",
              "       [0.35196733],\n",
              "       [0.47035238],\n",
              "       [0.49160832],\n",
              "       [0.39990583],\n",
              "       [0.55343276],\n",
              "       [0.54294336],\n",
              "       [0.49761376],\n",
              "       [0.70146954],\n",
              "       [0.84623414],\n",
              "       [0.6347531 ],\n",
              "       [0.4856355 ],\n",
              "       [0.47515562],\n",
              "       [0.42130452],\n",
              "       [0.6284024 ],\n",
              "       [0.6214339 ],\n",
              "       [0.49493277],\n",
              "       [0.6881017 ],\n",
              "       [0.64296037],\n",
              "       [0.59333545],\n",
              "       [0.8515874 ],\n",
              "       [0.92106825],\n",
              "       [0.73265547],\n",
              "       [0.54625916],\n",
              "       [0.49176326]], dtype=float32)"
            ]
          },
          "metadata": {
            "tags": []
          },
          "execution_count": 41
        }
      ]
    },
    {
      "cell_type": "code",
      "metadata": {
        "id": "WFaLNaWERsgN"
      },
      "source": [
        "# Transformback to original form\n",
        "train_predict = scaler.inverse_transform(train_predict)\n",
        "test_predict = scaler.inverse_transform(test_predict)"
      ],
      "execution_count": 42,
      "outputs": []
    },
    {
      "cell_type": "code",
      "metadata": {
        "colab": {
          "base_uri": "https://localhost:8080/"
        },
        "id": "7Qgj_7J3R51t",
        "outputId": "8e82fb28-7ee4-4402-fe2d-bfd4c9ceda1d"
      },
      "source": [
        "test_predict"
      ],
      "execution_count": 43,
      "outputs": [
        {
          "output_type": "execute_result",
          "data": {
            "text/plain": [
              "array([[277.2275 ],\n",
              "       [310.51523],\n",
              "       [273.5802 ],\n",
              "       [229.2208 ],\n",
              "       [223.01688],\n",
              "       [212.75792],\n",
              "       [249.33888],\n",
              "       [255.90698],\n",
              "       [227.5709 ],\n",
              "       [275.01074],\n",
              "       [271.7695 ],\n",
              "       [257.76266],\n",
              "       [320.7541 ],\n",
              "       [365.48636],\n",
              "       [300.13873],\n",
              "       [254.06137],\n",
              "       [250.82309],\n",
              "       [234.1831 ],\n",
              "       [298.17636],\n",
              "       [296.0231 ],\n",
              "       [256.93423],\n",
              "       [316.62344],\n",
              "       [302.67477],\n",
              "       [287.34067],\n",
              "       [367.1405 ],\n",
              "       [388.6101 ],\n",
              "       [330.39053],\n",
              "       [272.7941 ],\n",
              "       [255.95485]], dtype=float32)"
            ]
          },
          "metadata": {
            "tags": []
          },
          "execution_count": 43
        }
      ]
    },
    {
      "cell_type": "code",
      "metadata": {
        "colab": {
          "base_uri": "https://localhost:8080/"
        },
        "id": "SdvdFXByR7MU",
        "outputId": "d31788fb-72b5-41ad-8d5e-a0c1617ced5b"
      },
      "source": [
        "y_train.shape, train_predict.shape, train_predict"
      ],
      "execution_count": 44,
      "outputs": [
        {
          "output_type": "execute_result",
          "data": {
            "text/plain": [
              "((57,), (57, 1), array([[131.19159],\n",
              "        [126.01928],\n",
              "        [142.80682],\n",
              "        [152.81686],\n",
              "        [151.04623],\n",
              "        [140.50562],\n",
              "        [126.98479],\n",
              "        [114.12376],\n",
              "        [126.77035],\n",
              "        [117.52578],\n",
              "        [130.69427],\n",
              "        [145.01343],\n",
              "        [136.95847],\n",
              "        [130.62764],\n",
              "        [158.58849],\n",
              "        [176.00316],\n",
              "        [171.74684],\n",
              "        [161.31013],\n",
              "        [140.08452],\n",
              "        [126.24763],\n",
              "        [152.13644],\n",
              "        [148.0899 ],\n",
              "        [153.93849],\n",
              "        [187.12532],\n",
              "        [163.36732],\n",
              "        [179.7277 ],\n",
              "        [187.58855],\n",
              "        [208.59207],\n",
              "        [203.33833],\n",
              "        [184.82664],\n",
              "        [168.40657],\n",
              "        [157.85208],\n",
              "        [180.8499 ],\n",
              "        [178.15546],\n",
              "        [185.91208],\n",
              "        [201.30972],\n",
              "        [183.31238],\n",
              "        [190.57512],\n",
              "        [234.49751],\n",
              "        [236.94717],\n",
              "        [242.12175],\n",
              "        [201.12039],\n",
              "        [193.89917],\n",
              "        [185.50061],\n",
              "        [210.83705],\n",
              "        [204.97514],\n",
              "        [199.6069 ],\n",
              "        [251.6042 ],\n",
              "        [237.81755],\n",
              "        [222.67651],\n",
              "        [250.88368],\n",
              "        [273.64087],\n",
              "        [269.70044],\n",
              "        [219.7368 ],\n",
              "        [207.03857],\n",
              "        [191.69751],\n",
              "        [220.62592]], dtype=float32))"
            ]
          },
          "metadata": {
            "tags": []
          },
          "execution_count": 44
        }
      ]
    },
    {
      "cell_type": "code",
      "metadata": {
        "colab": {
          "base_uri": "https://localhost:8080/"
        },
        "id": "4pr2CZWySCLC",
        "outputId": "fe0b3f8b-ba45-4710-db71-c6bf7c8fbe01"
      },
      "source": [
        "# Calculate RMSE performance metrics\n",
        "import math\n",
        "from sklearn.metrics import mean_squared_error\n",
        "math.sqrt(mean_squared_error(y_train, train_predict))"
      ],
      "execution_count": 45,
      "outputs": [
        {
          "output_type": "execute_result",
          "data": {
            "text/plain": [
              "184.44200072438147"
            ]
          },
          "metadata": {
            "tags": []
          },
          "execution_count": 45
        }
      ]
    },
    {
      "cell_type": "code",
      "metadata": {
        "colab": {
          "base_uri": "https://localhost:8080/"
        },
        "id": "lnumU9tlSRMq",
        "outputId": "243d7400-ebaa-4e21-ed5c-ee3a535d0363"
      },
      "source": [
        "### Test Data RMSE\n",
        "math.sqrt(mean_squared_error(y_test,test_predict))"
      ],
      "execution_count": 47,
      "outputs": [
        {
          "output_type": "execute_result",
          "data": {
            "text/plain": [
              "284.1402822876784"
            ]
          },
          "metadata": {
            "tags": []
          },
          "execution_count": 47
        }
      ]
    },
    {
      "cell_type": "code",
      "metadata": {
        "colab": {
          "base_uri": "https://localhost:8080/",
          "height": 265
        },
        "id": "gLWi6TiRSTEQ",
        "outputId": "76080933-176f-4ab6-fb76-7e27dcc2a675"
      },
      "source": [
        "### Plotting \n",
        "# shift train predictions for plotting\n",
        "look_back=4\n",
        "trainPredictPlot = np.empty_like(df)\n",
        "trainPredictPlot[:, :] = np.nan\n",
        "trainPredictPlot[look_back:len(train_predict)+look_back, :] = train_predict\n",
        "# shift test predictions for plotting\n",
        "testPredictPlot = np.empty_like(df)\n",
        "testPredictPlot[:, :] = np.nan\n",
        "testPredictPlot[len(train_predict)+(look_back*2)+1:len(df)-1, :] = test_predict\n",
        "# plot baseline and predictions\n",
        "plt.plot(scaler.inverse_transform(df))\n",
        "plt.plot(trainPredictPlot)\n",
        "plt.plot(testPredictPlot)\n",
        "plt.show()"
      ],
      "execution_count": 48,
      "outputs": [
        {
          "output_type": "display_data",
          "data": {
            "image/png": "[encoded data removed]",
            "text/plain": [
              "<Figure size 432x288 with 1 Axes>"
            ]
          },
          "metadata": {
            "tags": [],
            "needs_background": "light"
          }
        }
      ]
    },
    {
      "cell_type": "code",
      "metadata": {
        "id": "9hrqNARQSYYT"
      },
      "source": [
        ""
      ],
      "execution_count": null,
      "outputs": []
    }
  ]
}